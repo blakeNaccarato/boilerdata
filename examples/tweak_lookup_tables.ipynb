{
 "cells": [
  {
   "cell_type": "markdown",
   "metadata": {},
   "source": [
    "# Tweak Lookup Tables\n",
    "\n",
    "This notebook ultimately obtains Feather files for the thermal conductivity of various library.api This process may be carefully extended to other properties, as well as reference cells and constant values. For now, let's focus on thermal conductivity.\n",
    "\n",
    "This notebook can be run sequentially if no intermediate folders have yet been established. Some cells are long-running, especially the one that invokes EES."
   ]
  },
  {
   "cell_type": "markdown",
   "metadata": {},
   "source": [
    "## Setup"
   ]
  },
  {
   "cell_type": "code",
   "execution_count": null,
   "metadata": {},
   "outputs": [],
   "source": [
    "from pathlib import Path\n",
    "\n",
    "from boilerdata import lookup\n",
    "from boilerdata import materials\n",
    "\n",
    "WORKDIR = Path.home() / \"Desktop/Lookup\"\n",
    "XLSX = WORKDIR / \"XLSX\"\n",
    "XLSX_TWEAKED = WORKDIR / \"XLSX Tweaked\"\n",
    "XLSX_FLATTENED = WORKDIR / \"XLSX Flattened\"\n",
    "FEATHERS = WORKDIR / \"Feathers\"\n",
    "\n",
    "WORKDIR.mkdir(parents=False, exist_ok=True)"
   ]
  },
  {
   "cell_type": "markdown",
   "metadata": {},
   "source": [
    "## Save EES Lookup Tables to XLSX Format\n",
    "\n",
    "This is a long-running step. Avoid running it again if it has already been done."
   ]
  },
  {
   "cell_type": "code",
   "execution_count": null,
   "metadata": {},
   "outputs": [],
   "source": [
    "lookup.get_all_lkt_as_xlsx(XLSX)"
   ]
  },
  {
   "cell_type": "markdown",
   "metadata": {},
   "source": [
    "## Tweak XLSX\n",
    "\n",
    "Ultimately we want to be able to index materials with an `enums.Enum`. Illegal characters will have to be replaced with underscores."
   ]
  },
  {
   "cell_type": "code",
   "execution_count": null,
   "metadata": {},
   "outputs": [],
   "source": [
    "lookup.tweak_xlsx(XLSX, XLSX_TWEAKED)"
   ]
  },
  {
   "cell_type": "markdown",
   "metadata": {},
   "source": [
    "## Example: Obtain all Materials as Indented Enum Fields\n",
    "\n",
    "This will prepend the appropriate space and append ` = auto()` for easy copy-pasting of the material names into the library of `enum.Enums` for `boilerdata.materials.Material`."
   ]
  },
  {
   "cell_type": "code",
   "execution_count": null,
   "metadata": {},
   "outputs": [],
   "source": [
    "mats = sorted(materials.get_all_materials(XLSX_TWEAKED))\n",
    "print(*mats, sep=\"\\n\")"
   ]
  },
  {
   "cell_type": "markdown",
   "metadata": {},
   "source": [
    "## Example: Obtain all Organic Liquids as Indented Enum Fields\n",
    "\n",
    "This will be for a convenience `enum.Enum` called `boilerdata.materials.Metal`. It allows tab-completion of materials in subcategories."
   ]
  },
  {
   "cell_type": "code",
   "execution_count": null,
   "metadata": {},
   "outputs": [],
   "source": [
    "mats = sorted(materials.get_subset_of_materials(XLSX_TWEAKED / \"Metals\"))\n",
    "print(*mats, sep=\"\\n\")"
   ]
  },
  {
   "cell_type": "markdown",
   "metadata": {},
   "source": [
    "## Flatten XLSX Directory Structure\n",
    "\n",
    "The `enum.Enum` variables in `boilerdata.materials` will be the primary way of distinguishing between material types. So we can flatten the material-subcategory folder structure now that it is redundant."
   ]
  },
  {
   "cell_type": "code",
   "execution_count": null,
   "metadata": {},
   "outputs": [],
   "source": [
    "lookup.flatten_xlsx(XLSX_TWEAKED, XLSX_FLATTENED)"
   ]
  },
  {
   "cell_type": "markdown",
   "metadata": {},
   "source": [
    "## Example: Thermal Conductivity Feathers\n",
    "\n",
    "The lookup tables have distinct regions and some nonuniformities, including material properties, references, constant parameters, and more. For now, let's just get the thermal conductivity feather files."
   ]
  },
  {
   "cell_type": "code",
   "execution_count": null,
   "metadata": {},
   "outputs": [],
   "source": [
    "lookup.get_xlsx_conductivity_as_feather(XLSX_FLATTENED, FEATHERS)"
   ]
  }
 ],
 "metadata": {
  "interpreter": {
   "hash": "f0814e65309a6b95e44e3fad8b639a62da3619d7de30c9404aa88bfc93c4307e"
  },
  "kernelspec": {
   "display_name": "Python 3.10.2 ('.venv': venv)",
   "language": "python",
   "name": "python3"
  },
  "language_info": {
   "codemirror_mode": {
    "name": "ipython",
    "version": 3
   },
   "file_extension": ".py",
   "mimetype": "text/x-python",
   "name": "python",
   "nbconvert_exporter": "python",
   "pygments_lexer": "ipython3",
   "version": "3.10.2"
  },
  "orig_nbformat": 4
 },
 "nbformat": 4,
 "nbformat_minor": 2
}
