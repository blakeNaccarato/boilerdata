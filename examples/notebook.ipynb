{
 "cells": [
  {
   "cell_type": "markdown",
   "id": "0fca08bf",
   "metadata": {},
   "source": [
    "# Convert thermocouple positions\n",
    "\n",
    "Thermocouple positions in the configuration file depend on the copper post and the sample being used. This allows a new sample dimension to be supplied, and the scale recalculated to reflect new thermocouple positions."
   ]
  },
  {
   "cell_type": "code",
   "execution_count": 1,
   "id": "33168ec7",
   "metadata": {},
   "outputs": [
    {
     "data": {
      "text/html": [
       "<pre style=\"white-space:pre;overflow-x:auto;line-height:normal;font-family:Menlo,'DejaVu Sans Mono',consolas,'Courier New',monospace\">\n",
       "<span style=\"color: #800080; text-decoration-color: #800080; font-weight: bold\">array</span><span style=\"font-weight: bold\">([</span><span style=\"color: #008080; text-decoration-color: #008080; font-weight: bold\">0.10358882</span>, <span style=\"color: #008080; text-decoration-color: #008080; font-weight: bold\">0.09188934</span>, <span style=\"color: #008080; text-decoration-color: #008080; font-weight: bold\">0.08021201</span>, <span style=\"color: #008080; text-decoration-color: #008080; font-weight: bold\">0.06851991</span>, <span style=\"color: #008080; text-decoration-color: #008080; font-weight: bold\">0.0260542</span> ,\n",
       "       <span style=\"color: #008080; text-decoration-color: #008080; font-weight: bold\">0</span>.        <span style=\"font-weight: bold\">])</span>\n",
       "</pre>\n"
      ],
      "text/plain": [
       "\n",
       "\u001b[1;35marray\u001b[0m\u001b[1m(\u001b[0m\u001b[1m[\u001b[0m\u001b[1;36m0.10358882\u001b[0m, \u001b[1;36m0.09188934\u001b[0m, \u001b[1;36m0.08021201\u001b[0m, \u001b[1;36m0.06851991\u001b[0m, \u001b[1;36m0.0260542\u001b[0m ,\n",
       "       \u001b[1;36m0\u001b[0m.        \u001b[1m]\u001b[0m\u001b[1m)\u001b[0m\n"
      ]
     },
     "metadata": {},
     "output_type": "display_data"
    }
   ],
   "source": [
    "import numpy as np\n",
    "from numpy.polynomial.polyutils import mapdomain\n",
    "\n",
    "from pipeline import configure\n",
    "\n",
    "config = configure()\n",
    "thermocouple_pos = np.concatenate((config.fit_params[\"thermocouple_pos\"], np.array([0.0])))  # type: ignore\n",
    "\n",
    "post_x_seam_distance_from_t1 = 0.08954262  # (m)\n",
    "length_sample_a9 = 0.0140462  # (m)\n",
    "\n",
    "mapdomain(\n",
    "    thermocouple_pos,\n",
    "    [thermocouple_pos[0], thermocouple_pos[-1]],\n",
    "    [post_x_seam_distance_from_t1 + length_sample_a9, thermocouple_pos[-1]],\n",
    ")\n"
   ]
  }
 ],
 "metadata": {
  "interpreter": {
   "hash": "f0814e65309a6b95e44e3fad8b639a62da3619d7de30c9404aa88bfc93c4307e"
  },
  "kernelspec": {
   "display_name": "Python 3.10.4 ('.venv': venv)",
   "language": "python",
   "name": "python3"
  },
  "language_info": {
   "codemirror_mode": {
    "name": "ipython",
    "version": 3
   },
   "file_extension": ".py",
   "mimetype": "text/x-python",
   "name": "python",
   "nbconvert_exporter": "python",
   "pygments_lexer": "ipython3",
   "version": "3.10.4"
  }
 },
 "nbformat": 4,
 "nbformat_minor": 5
}
