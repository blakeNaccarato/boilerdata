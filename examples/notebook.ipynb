{
 "cells": [
  {
   "cell_type": "markdown",
   "id": "0fca08bf",
   "metadata": {},
   "source": [
    "# Convert thermocouple positions\n",
    "\n",
    "Thermocouple positions in the configuration file depend on the copper post and the sample being used. This allows a new sample dimension to be supplied, and the scale recalculated to reflect new thermocouple positions."
   ]
  },
  {
   "cell_type": "code",
   "execution_count": 1,
   "id": "33168ec7",
   "metadata": {},
   "outputs": [
    {
     "data": {
      "text/html": [
       "<pre style=\"white-space:pre;overflow-x:auto;line-height:normal;font-family:Menlo,'DejaVu Sans Mono',consolas,'Courier New',monospace\"><span style=\"color: #800080; text-decoration-color: #800080; font-weight: bold\">array</span><span style=\"font-weight: bold\">([</span><span style=\"color: #008080; text-decoration-color: #008080; font-weight: bold\">0.09954262</span>, <span style=\"color: #008080; text-decoration-color: #008080; font-weight: bold\">0.08747</span>   , <span style=\"color: #008080; text-decoration-color: #008080; font-weight: bold\">0.07542024</span>, <span style=\"color: #008080; text-decoration-color: #008080; font-weight: bold\">0.06335524</span>, <span style=\"color: #008080; text-decoration-color: #008080; font-weight: bold\">0.01953516</span><span style=\"font-weight: bold\">])</span>\n",
       "</pre>\n"
      ],
      "text/plain": [
       "\u001b[1;35marray\u001b[0m\u001b[1m(\u001b[0m\u001b[1m[\u001b[0m\u001b[1;36m0.09954262\u001b[0m, \u001b[1;36m0.08747\u001b[0m   , \u001b[1;36m0.07542024\u001b[0m, \u001b[1;36m0.06335524\u001b[0m, \u001b[1;36m0.01953516\u001b[0m\u001b[1m]\u001b[0m\u001b[1m)\u001b[0m\n"
      ]
     },
     "metadata": {},
     "output_type": "display_data"
    }
   ],
   "source": [
    "from pipeline import configure\n",
    "\n",
    "config = configure()\n",
    "\n",
    "seam_distance_from_tc1 = 0.08954262  # (m)\n",
    "\n",
    "# # Migration from A9 to quasi-surface inside sample\n",
    "# new_sample_length = 0.010  # (m) ~4 mm shorter\n",
    "\n",
    "# # Migration from A6 to A9\n",
    "new_sample_length = 0.0140462  # (m)\n",
    "\n",
    "old_tc_pos = config.fit_params[\"thermocouple_pos\"]  # type: ignore\n",
    "\n",
    "old_seam_pos = old_tc_pos[0] - seam_distance_from_tc1\n",
    "new_seam_pos = new_sample_length\n",
    "\n",
    "tc_offset = new_seam_pos - old_seam_pos\n",
    "new_tc_pos = old_tc_pos + tc_offset\n",
    "\n",
    "new_tc_pos\n"
   ]
  }
 ],
 "metadata": {
  "interpreter": {
   "hash": "f0814e65309a6b95e44e3fad8b639a62da3619d7de30c9404aa88bfc93c4307e"
  },
  "kernelspec": {
   "display_name": "Python 3.10.4 ('.venv': venv)",
   "language": "python",
   "name": "python3"
  },
  "language_info": {
   "codemirror_mode": {
    "name": "ipython",
    "version": 3
   },
   "file_extension": ".py",
   "mimetype": "text/x-python",
   "name": "python",
   "nbconvert_exporter": "python",
   "pygments_lexer": "ipython3",
   "version": "3.10.4"
  }
 },
 "nbformat": 4,
 "nbformat_minor": 5
}
