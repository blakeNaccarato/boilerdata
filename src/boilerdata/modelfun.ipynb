{
 "cells": [
  {
   "attachments": {},
   "cell_type": "markdown",
   "metadata": {
    "notebookRunGroups": {
     "groupValue": "1"
    }
   },
   "source": [
    "# Heat transfer in a fin with piecewise variation of some parameters\n"
   ]
  },
  {
   "attachments": {},
   "cell_type": "markdown",
   "metadata": {
    "notebookRunGroups": {
     "groupValue": "1"
    }
   },
   "source": [
    "## Setup\n"
   ]
  },
  {
   "cell_type": "code",
   "execution_count": null,
   "metadata": {
    "notebookRunGroups": {
     "groupValue": "1"
    }
   },
   "outputs": [],
   "source": [
    "from pathlib import Path\n",
    "import warnings\n",
    "\n",
    "from IPython.display import Math, display\n",
    "import dill  # noqa: S403\n",
    "from matplotlib import pyplot as plt\n",
    "import numpy as np\n",
    "from sympy import (\n",
    "    Eq,\n",
    "    FiniteSet,\n",
    "    Function,\n",
    "    Piecewise,\n",
    "    Subs,\n",
    "    dsolve,\n",
    "    lambdify,\n",
    "    pi,\n",
    "    symbols,\n",
    ")\n",
    "from sympy.printing.latex import latex\n",
    "from uncertainties import umath\n",
    "\n",
    "from boilerdata.models.project import Project\n",
    "from boilerdata.utils import chdir_to_nearest_git_root\n",
    "\n",
    "\n",
    "def math_mod(expr, long_frac_ratio=3, **kwargs):\n",
    "    return Math(latex(expr, long_frac_ratio=long_frac_ratio, **kwargs))\n",
    "\n",
    "\n",
    "def disp(title, *exprs, **kwargs):\n",
    "    print(f\"{title}:\")\n",
    "    display(*(math_mod(expr, **kwargs) for expr in exprs))\n",
    "\n",
    "\n",
    "def disp_free(title, eqn, **kwargs):\n",
    "    disp(title, eqn, **kwargs)\n",
    "    disp(\"Free symbols\", FiniteSet(*eqn.rhs.free_symbols), **kwargs)\n",
    "\n",
    "\n",
    "def chdir_to_nearest_git_root_and_get_project():\n",
    "    \"\"\"Ensure this notebook runs at project root regardless of how it is executed.\"\"\"\n",
    "    chdir_to_nearest_git_root()\n",
    "    return Project.get_project()\n",
    "\n",
    "\n",
    "proj = chdir_to_nearest_git_root_and_get_project()"
   ]
  },
  {
   "attachments": {},
   "cell_type": "markdown",
   "metadata": {
    "notebookRunGroups": {
     "groupValue": "1"
    }
   },
   "source": [
    "## Symbols\n"
   ]
  },
  {
   "cell_type": "code",
   "execution_count": null,
   "metadata": {
    "notebookRunGroups": {
     "groupValue": "1"
    }
   },
   "outputs": [],
   "source": [
    "params = symbols(\n",
    "    \"\"\"\n",
    "    x,\n",
    "    T_s,\n",
    "    q_s,\n",
    "    h_a,\n",
    "    \"\"\"\n",
    ")\n",
    "(\n",
    "    x,  # (m) Axial position\n",
    "    T_s,  # (C) Boiling surface temperature\n",
    "    q_s,  # (W/m^2) Boiling surface heat flux\n",
    "    h_a,  # (W/m^2-K) h in air\n",
    ") = params\n",
    "\n",
    "inputs = symbols(\n",
    "    \"\"\"\n",
    "    h_w,\n",
    "    k,\n",
    "    r,\n",
    "    T_infa,\n",
    "    T_infw,\n",
    "    x_s,\n",
    "    x_wa,\n",
    "    \"\"\"\n",
    ")\n",
    "(\n",
    "    h_w,  # (W/m^2-K) h in water\n",
    "    k,  # (W/m-K) Thermal conductivity\n",
    "    r,  # (m) Radius of rod\n",
    "    T_infa,  # (C) T_inf in air\n",
    "    T_infw,  # (C) T_inf in water\n",
    "    x_s,  # (m) x at the boiling surface\n",
    "    x_wa,  # (m) Axial position at the domain interface\n",
    ") = inputs\n",
    "\n",
    "intermediate_vars = symbols(\n",
    "    \"\"\"\n",
    "    h,\n",
    "    q_0,\n",
    "    q_wa,\n",
    "    T_0,\n",
    "    T_inf,\n",
    "    T_wa,\n",
    "    x_0,\n",
    "    \"\"\"\n",
    ")\n",
    "(\n",
    "    h,  # (W/m^2-K) Convection heat transfer coefficient\n",
    "    q_0,  # (W/m^2) q at x_0, the LHS of a general domain\n",
    "    q_wa,  # (W/m^2) q at the domain interface\n",
    "    T_0,  # (C) T at x_0, the LHS of a general domain\n",
    "    T_inf,  # (C) Ambient temperature\n",
    "    T_wa,  # (C) T at the domain interface\n",
    "    x_0,  # (m) x at the LHS of a general domain\n",
    ") = intermediate_vars\n",
    "\n",
    "functions = symbols(\n",
    "    \"\"\"\n",
    "    T*,\n",
    "    T_a,\n",
    "    T_w,\n",
    "    T,\n",
    "    \"\"\",\n",
    "    cls=Function,  # pyright: ignore [reportGeneralTypeIssues]  # sympy\n",
    ")\n",
    "(\n",
    "    T_int,  # (T*, C) The general solution to the ODE\n",
    "    T_a,  # (C) Solution in air\n",
    "    T_w,  # (C) Solution in water\n",
    "    T,  # (C) The piecewise combination of the two above solutions\n",
    ") = functions\n",
    "\n",
    "for key, val in {\n",
    "    \"Model parameters\": params,\n",
    "    \"Model inputs\": inputs,\n",
    "    \"Intermediate variables\": intermediate_vars,\n",
    "}.items():\n",
    "    disp(key, FiniteSet(*val))\n",
    "\n",
    "disp(\"Functions\", FiniteSet(*(fun(x) for fun in functions)))"
   ]
  },
  {
   "attachments": {},
   "cell_type": "markdown",
   "metadata": {
    "notebookRunGroups": {
     "groupValue": "1"
    }
   },
   "source": [
    "## General ODE and its solution\n"
   ]
  },
  {
   "cell_type": "code",
   "execution_count": null,
   "metadata": {
    "notebookRunGroups": {
     "groupValue": "1"
    }
   },
   "outputs": [],
   "source": [
    "P = 2 * pi * r\n",
    "A_c = pi * r**2\n",
    "\n",
    "ode = Eq(\n",
    "    T(x).diff(x, 2) - h * P / k / A_c * (T(x) - T_inf),\n",
    "    0,\n",
    ")\n",
    "ics = {\n",
    "    T(x_0): T_0,\n",
    "    Subs(T(x).diff(x), x, x_0): q_0 / k,\n",
    "}\n",
    "disp(\"ODE\", ode)\n",
    "disp(\"Initial conditions\", *(Eq(lhs, rhs) for lhs, rhs in ics.items()))"
   ]
  },
  {
   "cell_type": "code",
   "execution_count": null,
   "metadata": {
    "notebookRunGroups": {
     "groupValue": "1"
    }
   },
   "outputs": [],
   "source": [
    "T_int_expr = dsolve(\n",
    "    ode,\n",
    "    T(x),\n",
    "    ics=ics,\n",
    ").rhs  # pyright: ignore [reportGeneralTypeIssues]  # sympy\n",
    "disp_free(\"General solution to the ODE\", Eq(T_int(x), T_int_expr))"
   ]
  },
  {
   "cell_type": "code",
   "execution_count": null,
   "metadata": {
    "notebookRunGroups": {
     "groupValue": "1"
    }
   },
   "outputs": [],
   "source": [
    "# Don't subs/simplify the lhs then try equating to zero. Doesn't work. \"Truth value of\n",
    "# relational\" issue. Here we subs/simplify the whole ODE equation.\n",
    "\n",
    "assert ode.subs(T(x), T_int_expr).simplify(), \"The solution to the ODE is not verified by substitution.\"\n",
    "print(\"The solution to the ODE is verified by substitution.\")"
   ]
  },
  {
   "attachments": {},
   "cell_type": "markdown",
   "metadata": {
    "notebookRunGroups": {
     "groupValue": "2"
    }
   },
   "source": [
    "## Solution in the water domain\n"
   ]
  },
  {
   "cell_type": "code",
   "execution_count": null,
   "metadata": {
    "notebookRunGroups": {
     "groupValue": "2"
    }
   },
   "outputs": [],
   "source": [
    "T_w_expr = T_int_expr.subs(\n",
    "    {\n",
    "        h: h_w,\n",
    "        q_0: q_s,\n",
    "        T_0: T_s,\n",
    "        T_inf: T_infw,\n",
    "        x_0: x_s,\n",
    "    }\n",
    ")\n",
    "\n",
    "disp_free(\"Solution in the water domain\", Eq(T_w(x), T_w_expr))"
   ]
  },
  {
   "attachments": {},
   "cell_type": "markdown",
   "metadata": {
    "notebookRunGroups": {
     "groupValue": "2"
    }
   },
   "source": [
    "## Values at the domain boundary\n"
   ]
  },
  {
   "cell_type": "code",
   "execution_count": null,
   "metadata": {
    "notebookRunGroups": {
     "groupValue": "2"
    }
   },
   "outputs": [],
   "source": [
    "T_wa_expr_w = T_w_expr.subs(x, x_wa)\n",
    "q_wa_expr_w = (\n",
    "    T_w_expr.diff(x).subs(  # pyright: ignore [reportGeneralTypeIssues]  # sympy\n",
    "        x,\n",
    "        x_wa,\n",
    "    )\n",
    "    * k\n",
    ")\n",
    "\n",
    "disp_free(\"Temperature at the domain transition\", Eq(T_wa, T_wa_expr_w))\n",
    "disp_free(\"Heat flux at the domain transition\", Eq(q_wa, q_wa_expr_w))"
   ]
  },
  {
   "attachments": {},
   "cell_type": "markdown",
   "metadata": {
    "notebookRunGroups": {
     "groupValue": "2"
    }
   },
   "source": [
    "## Solution in the air domain\n"
   ]
  },
  {
   "cell_type": "code",
   "execution_count": null,
   "metadata": {
    "notebookRunGroups": {
     "groupValue": "2"
    }
   },
   "outputs": [],
   "source": [
    "T_a_int_expr = T_int_expr.subs(\n",
    "    {\n",
    "        h: h_a,\n",
    "        q_0: q_wa,\n",
    "        T_0: T_wa,\n",
    "        T_inf: T_infa,\n",
    "        x_0: x_wa,\n",
    "    }\n",
    ")\n",
    "T_a_expr = T_a_int_expr.subs(\n",
    "    {\n",
    "        q_wa: q_wa_expr_w,\n",
    "        T_wa: T_wa_expr_w,\n",
    "    }\n",
    ")\n",
    "\n",
    "T_wa_expr_a = T_a_expr.subs(x, x_wa)\n",
    "q_wa_expr_a = (\n",
    "    T_a_expr.diff(x).subs(  # pyright: ignore [reportGeneralTypeIssues]  # sympy\n",
    "        x,\n",
    "        x_wa,\n",
    "    )\n",
    "    * k\n",
    ")\n",
    "\n",
    "disp_free(\"Solution in the air domain\", Eq(T_a(x), T_a_int_expr))\n",
    "disp_free(\"Solution in the air domain, with substitutions\", Eq(T_a(x), T_a_expr))"
   ]
  },
  {
   "attachments": {},
   "cell_type": "markdown",
   "metadata": {
    "notebookRunGroups": {
     "groupValue": "2"
    }
   },
   "source": [
    "## Check the solution\n"
   ]
  },
  {
   "cell_type": "code",
   "execution_count": null,
   "metadata": {
    "notebookRunGroups": {
     "groupValue": "2"
    }
   },
   "outputs": [],
   "source": [
    "assert Eq(T_wa_expr_w, T_wa_expr_a).simplify(), \"Temperature discontinuous at domain transition.\"\n",
    "assert Eq(q_wa_expr_w, q_wa_expr_a).simplify(), \"Temperature gradient discontinuous at domain transition.\"\n",
    "print(\"Temperature and temperature gradient are continuous at the domain transition.\")"
   ]
  },
  {
   "attachments": {},
   "cell_type": "markdown",
   "metadata": {
    "notebookRunGroups": {
     "groupValue": "3"
    }
   },
   "source": [
    "## Piecewise temperature distribution\n"
   ]
  },
  {
   "cell_type": "code",
   "execution_count": null,
   "metadata": {
    "notebookRunGroups": {
     "groupValue": "3"
    }
   },
   "outputs": [],
   "source": [
    "T_expr = Piecewise(\n",
    "    (T_w_expr, x < x_wa),\n",
    "    (T_a_expr, True),\n",
    ")\n",
    "\n",
    "disp_free(\"Temperature distribution in the rod\", Eq(T(x), T_expr))"
   ]
  },
  {
   "attachments": {},
   "cell_type": "markdown",
   "metadata": {
    "notebookRunGroups": {
     "groupValue": "3"
    }
   },
   "source": [
    "## Make the model function amenable to curve fitting\n"
   ]
  },
  {
   "attachments": {},
   "cell_type": "markdown",
   "metadata": {
    "notebookRunGroups": {
     "groupValue": "3"
    }
   },
   "source": [
    "## Plot an example curve of the model\n"
   ]
  },
  {
   "cell_type": "code",
   "execution_count": null,
   "metadata": {
    "notebookRunGroups": {
     "groupValue": "3"
    }
   },
   "outputs": [],
   "source": [
    "class Model:\n",
    "    cm2_p_m2 = 100**2  # ((cm/m)^2) Conversion factor\n",
    "\n",
    "    def __init__(self):\n",
    "        \"\"\"Model of the temperature distribution in a rod.\n",
    "\n",
    "        Consists of the lambdified model function and a method for generating a wrapped\n",
    "        model function that has more flexible input requirements.\n",
    "        \"\"\"\n",
    "\n",
    "        expr = T_expr.evalf(  # pyright: ignore [reportGeneralTypeIssues]  # sympy\n",
    "            subs=proj.params.model_inputs  # pyright: ignore [reportGeneralTypeIssues]  # sympy\n",
    "            | {q_s: q_s * self.cm2_p_m2}  # (W/m^2) = (W/cm^2 * cm^2/m^2)\n",
    "        )\n",
    "        disp_free(\"Temperature distribution after float evaluation\", Eq(T(x), expr))\n",
    "\n",
    "        overrides = {\n",
    "            ufun.name: np.vectorize(ufun)\n",
    "            for ufun in (\n",
    "                umath.exp,  # pyright: ignore [reportGeneralTypeIssues]  # uncertainties\n",
    "                umath.sqrt,  # pyright: ignore [reportGeneralTypeIssues]  # uncertainties\n",
    "            )\n",
    "        }\n",
    "\n",
    "        self.basic = lambdify(args=params, expr=expr, modules=np)\n",
    "        self.for_ufloat = lambdify(args=params, expr=expr, modules=[overrides, np])"
   ]
  },
  {
   "cell_type": "code",
   "execution_count": null,
   "metadata": {},
   "outputs": [],
   "source": [
    "model_for_pickling = Model()\n",
    "model = model_for_pickling.basic\n",
    "fig, ax = plt.subplots(layout=\"constrained\")\n",
    "x_smooth = np.linspace(0, 0.10)\n",
    "model_kwargs = dict(\n",
    "    x=x_smooth,\n",
    "    T_s=105,  # (C)\n",
    "    q_s=20,  # (W/cm^2)\n",
    "    h_a=100,  # (W/m^2-K)\n",
    ")\n",
    "model_evaluated_at_x_smooth = model(**model_kwargs)\n",
    "\n",
    "_ = ax.plot(\n",
    "    x_smooth,\n",
    "    model_evaluated_at_x_smooth,\n",
    ")"
   ]
  },
  {
   "attachments": {},
   "cell_type": "markdown",
   "metadata": {},
   "source": [
    "## Serialize the model to a file"
   ]
  },
  {
   "cell_type": "code",
   "execution_count": null,
   "metadata": {
    "notebookRunGroups": {
     "groupValue": "3"
    }
   },
   "outputs": [],
   "source": [
    "with warnings.catch_warnings():\n",
    "    warnings.simplefilter(\"ignore\")\n",
    "    pickled_model = dill.dumps(model_for_pickling)\n",
    "\n",
    "Path(proj.dirs.model_file).write_bytes(pickled_model)\n",
    "\n",
    "with warnings.catch_warnings():\n",
    "    warnings.simplefilter(\"ignore\")\n",
    "    unpickled_model = dill.loads(pickled_model)  # noqa: S301  # Known unpickling.\n",
    "\n",
    "assert np.allclose(\n",
    "    model_evaluated_at_x_smooth, unpickled_model.basic(**model_kwargs)\n",
    "), \"The unpickled basic model differs from the original model.\"\n",
    "\n",
    "assert np.allclose(\n",
    "    model_evaluated_at_x_smooth, unpickled_model.for_ufloat(**model_kwargs)\n",
    "), \"The unpickled model for ufloats differs from the original model.\"\n",
    "\n",
    "print(\"The unpickled models are the same as the original model.\")"
   ]
  }
 ],
 "metadata": {
  "kernelspec": {
   "display_name": "Python 3.10.7 ('.venv': venv)",
   "language": "python",
   "name": "python3"
  },
  "language_info": {
   "codemirror_mode": {
    "name": "ipython",
    "version": 3
   },
   "file_extension": ".py",
   "mimetype": "text/x-python",
   "name": "python",
   "nbconvert_exporter": "python",
   "pygments_lexer": "ipython3",
   "version": "3.10.8"
  },
  "vscode": {
   "interpreter": {
    "hash": "b6aa036b71bee0863c84db770605bec9f16973f1b95b8b091417c7a1242fbf62"
   }
  }
 },
 "nbformat": 4,
 "nbformat_minor": 2
}
