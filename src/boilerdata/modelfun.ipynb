{
 "cells": [
  {
   "attachments": {},
   "cell_type": "markdown",
   "metadata": {},
   "source": [
    "# Heat transfer in a fin with piecewise variation of some parameters\n",
    "\n",
    "Note that this notebook should be at the root directory of the repository because it is executed by `jupyter execute` which sets the working directory to the one the notebook is in. This unifies the behavior of developing and running this notebook in VSCode and also using it in the data pipeline."
   ]
  },
  {
   "attachments": {},
   "cell_type": "markdown",
   "metadata": {},
   "source": [
    "## Setup"
   ]
  },
  {
   "cell_type": "code",
   "execution_count": null,
   "metadata": {},
   "outputs": [],
   "source": [
    "from functools import partial\n",
    "from pathlib import Path\n",
    "import pickle\n",
    "\n",
    "from IPython.display import Math\n",
    "import dill\n",
    "from matplotlib import pyplot as plt\n",
    "import numpy as np\n",
    "from sympy import (\n",
    "    Eq,\n",
    "    FiniteSet,\n",
    "    Function,\n",
    "    Piecewise,\n",
    "    Subs,\n",
    "    besselsimp,\n",
    "    dsolve,\n",
    "    exp,\n",
    "    lambdify,\n",
    "    pi,\n",
    "    separatevars,\n",
    "    solveset,\n",
    "    sqrt,\n",
    "    symbols,\n",
    ")\n",
    "from sympy.printing.latex import latex\n",
    "\n",
    "from boilerdata.models.project import Project\n",
    "from boilerdata.utils import chdir_to_nearest_git_root\n",
    "\n",
    "\n",
    "def math_mod(expr, long_frac_ratio=3, **kwargs):\n",
    "    return Math(latex(expr, long_frac_ratio=3))\n",
    "\n",
    "\n",
    "def disp(title, *exprs, **kwargs):\n",
    "    print(f\"{title}:\")\n",
    "    display(*(math_mod(expr, **kwargs) for expr in exprs))\n",
    "\n",
    "\n",
    "def disp_free(title, eqn, **kwargs):\n",
    "    disp(title, eqn, **kwargs)\n",
    "    disp(\"Free symbols\", FiniteSet(*eqn.rhs.free_symbols), **kwargs)\n",
    "\n",
    "def chdir_to_nearest_git_root_and_get_project():\n",
    "    \"\"\"Ensure this notebook runs at project root regardless of how it is executed.\"\"\"\n",
    "    chdir_to_nearest_git_root()\n",
    "    return Project.get_project()\n",
    "\n",
    "proj = chdir_to_nearest_git_root_and_get_project()\n",
    "\n",
    "# Substitute this instead of zero to avoid division by zero\n",
    "eps = np.finfo(float).eps\n"
   ]
  },
  {
   "attachments": {},
   "cell_type": "markdown",
   "metadata": {},
   "source": [
    "## Symbols"
   ]
  },
  {
   "cell_type": "code",
   "execution_count": null,
   "metadata": {},
   "outputs": [],
   "source": [
    "parameters = symbols(\n",
    "    \"\"\"\n",
    "    h,\n",
    "    h_w,\n",
    "    h_a,\n",
    "    k,\n",
    "    q''_s,\n",
    "    r,\n",
    "    T_inf,\n",
    "    T_s,\n",
    "    \"\"\"\n",
    ")\n",
    "(\n",
    "    h,  # General convection heat transfer coefficient\n",
    "    h_w,  # Heat transfer coefficient in the water domain\n",
    "    h_a,  # Heat transfer coefficient in the air domain\n",
    "    k,  # Thermal conductivity\n",
    "    q_s,  # (q''_s) Boiling surface heat flux\n",
    "    r,  # Radius of rod\n",
    "    T_inf,  # Ambient temperature\n",
    "    T_s,  # Boiling surface temperature\n",
    ") = parameters\n",
    "\n",
    "independent_variables = symbols(\n",
    "    \"\"\"\n",
    "    x,\n",
    "    \"\"\"\n",
    ")\n",
    "(x,) = independent_variables  # Axial position\n",
    "\n",
    "intermediate_variables = symbols(\n",
    "    \"\"\"\n",
    "    q''_0,\n",
    "    q''_w-a,\n",
    "    T_0,\n",
    "    T_w-a,\n",
    "    x_0,\n",
    "    x_s,\n",
    "    x_w-a,\n",
    "    \"\"\"\n",
    ")\n",
    "(\n",
    "    q_0,  # (q''_0) Heat flux at x_0, for a general initial condition\n",
    "    q_w_a,  # (q''_w-a) Heat flux between the water and air domains\n",
    "    T_0,  # Temperature at x_0, for a general initial condition\n",
    "    T_w_a,  # (T_w-a) Temperature between the water and air domains\n",
    "    x_0,  # Axial position of the initial condition\n",
    "    x_s,  # Axial position of the boiling surface\n",
    "    x_w_a,  # (x_w-a) Axial position between the water and air domains\n",
    ") = intermediate_variables\n",
    "\n",
    "valid_python_subs = symbols(\n",
    "    \"\"\"\n",
    "    q_s, x_w_a\n",
    "    \"\"\"\n",
    ")\n",
    "(\n",
    "    q_s_repr,\n",
    "    x_w_a_repr,\n",
    ") = valid_python_subs\n",
    "\n",
    "functions = symbols(\n",
    "    \"\"\"\n",
    "    T*,\n",
    "    T_a,\n",
    "    T_w,\n",
    "    T,\n",
    "    \"\"\",\n",
    "    cls=Function,  # type: ignore\n",
    ")\n",
    "(\n",
    "    T_int,  # (T*) The general solution to the ODE\n",
    "    T_a,  # Solution in air\n",
    "    T_w,  # Solution in water\n",
    "    T,  # The piecewise combination of the two above solutions\n",
    ") = functions\n",
    "\n",
    "for key, val in {\n",
    "    \"Parameters\": parameters,\n",
    "    \"Independent variables\": independent_variables,\n",
    "    \"Intermediate variables\": intermediate_variables,\n",
    "    \"Valid Python substitutions\": valid_python_subs,\n",
    "}.items():\n",
    "    disp(key, FiniteSet(*val))\n",
    "\n",
    "disp(\"Functions\", FiniteSet(*(fun(x) for fun in functions)))\n"
   ]
  },
  {
   "attachments": {},
   "cell_type": "markdown",
   "metadata": {},
   "source": [
    "## General ODE and its solution"
   ]
  },
  {
   "cell_type": "code",
   "execution_count": null,
   "metadata": {},
   "outputs": [],
   "source": [
    "P = 2 * pi * r\n",
    "A_c = pi * r**2\n",
    "\n",
    "ode = Eq(\n",
    "    T(x).diff(x, 2) - h * P / k / A_c * (T(x) - T_inf),\n",
    "    0,\n",
    ")\n",
    "ics = {\n",
    "    T(x_0): T_0,\n",
    "    Subs(T(x).diff(x), x, x_0): q_0 / k,\n",
    "}\n",
    "disp(\"ODE\", ode)\n",
    "disp(\"Initial conditions\", *(Eq(lhs, rhs) for lhs, rhs in ics.items()))\n"
   ]
  },
  {
   "cell_type": "code",
   "execution_count": null,
   "metadata": {},
   "outputs": [],
   "source": [
    "T_int_expr = dsolve(ode, T(x), ics=ics).rhs  # type: ignore\n",
    "disp_free(\"General solution to the ODE\", Eq(T_int(x), T_int_expr))\n"
   ]
  },
  {
   "cell_type": "code",
   "execution_count": null,
   "metadata": {},
   "outputs": [],
   "source": [
    "if ode.subs(T(x), T_int_expr).simplify():\n",
    "    print(\"The solution to the ODE is verified by substitution.\")\n",
    "else:\n",
    "    raise RuntimeError(\"The solution to the ODE is not verified by substitution.\")\n"
   ]
  },
  {
   "attachments": {},
   "cell_type": "markdown",
   "metadata": {},
   "source": [
    "## Solution in the water domain"
   ]
  },
  {
   "cell_type": "code",
   "execution_count": null,
   "metadata": {},
   "outputs": [],
   "source": [
    "T_w_expr = T_int_expr.subs(\n",
    "    {\n",
    "        x_0: 0,\n",
    "        q_0: q_s,\n",
    "        T_0: T_s,\n",
    "        h: h_w,\n",
    "    }\n",
    ")\n",
    "\n",
    "disp_free(\"Solution in the water domain\", Eq(T_w(x), T_w_expr))\n"
   ]
  },
  {
   "attachments": {},
   "cell_type": "markdown",
   "metadata": {},
   "source": [
    "## Values at the domain boundary"
   ]
  },
  {
   "cell_type": "code",
   "execution_count": null,
   "metadata": {},
   "outputs": [],
   "source": [
    "T_w_a_expr = T_w_expr.subs(x, x_w_a)\n",
    "q_w_a_expr = T_w_expr.diff(x).subs(x, x_w_a) * k  # type: ignore\n",
    "\n",
    "disp_free(\"Temperature at the domain transition\", Eq(T_w_a, T_w_a_expr))\n",
    "disp_free(\"Heat flux at the domain transition\", Eq(q_w_a, q_w_a_expr))\n"
   ]
  },
  {
   "attachments": {},
   "cell_type": "markdown",
   "metadata": {},
   "source": [
    "## Solution in the air domain"
   ]
  },
  {
   "cell_type": "code",
   "execution_count": null,
   "metadata": {},
   "outputs": [],
   "source": [
    "T_a_int_expr = T_int_expr.subs(\n",
    "    {\n",
    "        x_0: x_w_a,\n",
    "        q_0: q_w_a,\n",
    "        T_0: T_w_a,\n",
    "        h: h_a,\n",
    "    }\n",
    ")\n",
    "T_a_expr = T_a_int_expr.subs(\n",
    "    {\n",
    "        T_w_a: T_w_a_expr,\n",
    "        q_w_a: q_w_a_expr,\n",
    "    }\n",
    ")\n",
    "\n",
    "disp_free(\"Solution in the air domain\", Eq(T_a(x), T_a_int_expr))\n",
    "disp_free(\"Solution in the air domain, with substitutions\", Eq(T_a(x), T_a_expr))\n"
   ]
  },
  {
   "attachments": {},
   "cell_type": "markdown",
   "metadata": {},
   "source": [
    "## Check the solution"
   ]
  },
  {
   "cell_type": "code",
   "execution_count": null,
   "metadata": {},
   "outputs": [],
   "source": [
    "if not Eq(\n",
    "    (T_w_expr.subs(x, x_w_a) - T_a_expr.subs(x, x_w_a)).simplify(),  # type: ignore\n",
    "    0,\n",
    "):\n",
    "    raise AssertionError(\"Temperature discontinuous at domain transition.\")\n",
    "\n",
    "if not Eq(\n",
    "    (T_w_expr.diff(x).subs(x, x_w_a) - T_a_expr.diff(x).subs(x, x_w_a)).simplify(),  # type: ignore\n",
    "    0,\n",
    "):\n",
    "    raise AssertionError(\"Temperature gradient discontinuous at domain transition.\")\n",
    "\n",
    "print(\"Temperature and temperature gradient are continuous at the domain transition.\")\n"
   ]
  },
  {
   "attachments": {},
   "cell_type": "markdown",
   "metadata": {},
   "source": [
    "## Piecewise temperature distribution"
   ]
  },
  {
   "cell_type": "code",
   "execution_count": null,
   "metadata": {},
   "outputs": [],
   "source": [
    "T_expr = Piecewise(\n",
    "    (T_w_expr, x < x_w_a),\n",
    "    (T_a_expr, True),\n",
    ")\n",
    "\n",
    "disp_free(\"Temperature distribution in the rod\", Eq(T(x), T_expr))\n"
   ]
  },
  {
   "attachments": {},
   "cell_type": "markdown",
   "metadata": {},
   "source": [
    "## Make the model function amenable to curve fitting"
   ]
  },
  {
   "cell_type": "code",
   "execution_count": null,
   "metadata": {},
   "outputs": [],
   "source": [
    "T_expr2 = T_expr.subs({q_s: q_s_repr, x_w_a: x_w_a_repr})\n",
    "disp_free(\"Temperature distribution after substitution\", Eq(T(x), T_expr2))\n"
   ]
  },
  {
   "cell_type": "code",
   "execution_count": null,
   "metadata": {},
   "outputs": [],
   "source": [
    "T_expr3 = T_expr2.evalf(  # type: ignore\n",
    "    subs={\n",
    "        r: 0.0047625,\n",
    "        k: 400.0,\n",
    "        T_inf: 25.0,\n",
    "        x_w_a_repr: 0.0381,\n",
    "        h_w: eps,\n",
    "        h_a: 100,\n",
    "    }\n",
    ")\n",
    "disp_free(\"Temperature distribution after float evaluation\", Eq(T(x), T_expr3))\n"
   ]
  },
  {
   "attachments": {},
   "cell_type": "markdown",
   "metadata": {},
   "source": [
    "## Plot an example curve of the model"
   ]
  },
  {
   "cell_type": "code",
   "execution_count": null,
   "metadata": {},
   "outputs": [],
   "source": [
    "model = lambdify((x, T_s, q_s_repr), T_expr3)\n",
    "\n",
    "\n",
    "def get_partial_model(model):\n",
    "    return partial(\n",
    "        model,\n",
    "        T_s=105,\n",
    "        q_s=20 * 100**2,  # 20 W/cm^2\n",
    "    )\n",
    "\n",
    "\n",
    "example_model = get_partial_model(model)\n",
    "fig, ax = plt.subplots(layout=\"constrained\")\n",
    "x_smooth = np.linspace(0, 0.10)\n",
    "_ = ax.plot(x_smooth, example_model(x_smooth))\n"
   ]
  },
  {
   "attachments": {},
   "cell_type": "markdown",
   "metadata": {},
   "source": [
    "## Serialize the model to a file"
   ]
  },
  {
   "cell_type": "code",
   "execution_count": null,
   "metadata": {},
   "outputs": [],
   "source": [
    "model_file = proj.dirs.model_file\n",
    "\n",
    "pickle = dill.dumps(model)\n",
    "Path(model_file).write_bytes(pickle)\n",
    "unpickled_partial_model = get_partial_model(dill.loads(pickle))\n",
    "if not np.allclose(example_model(x_smooth), unpickled_partial_model(x_smooth)):\n",
    "    raise AssertionError(\"The unpickled model is not the same as the original model.\")\n"
   ]
  }
 ],
 "metadata": {
  "kernelspec": {
   "display_name": "Python 3.10.7 ('.venv': venv)",
   "language": "python",
   "name": "python3"
  },
  "language_info": {
   "codemirror_mode": {
    "name": "ipython",
    "version": 3
   },
   "file_extension": ".py",
   "mimetype": "text/x-python",
   "name": "python",
   "nbconvert_exporter": "python",
   "pygments_lexer": "ipython3",
   "version": "3.10.8"
  },
  "vscode": {
   "interpreter": {
    "hash": "b6aa036b71bee0863c84db770605bec9f16973f1b95b8b091417c7a1242fbf62"
   }
  }
 },
 "nbformat": 4,
 "nbformat_minor": 2
}
