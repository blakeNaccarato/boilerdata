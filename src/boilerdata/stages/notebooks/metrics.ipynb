{
 "cells": [
  {
   "attachments": {},
   "cell_type": "markdown",
   "metadata": {},
   "source": [
    "### Parameters\n",
    "\n",
    "These are changed by Papermill in the data pipeline."
   ]
  },
  {
   "cell_type": "code",
   "execution_count": null,
   "metadata": {
    "notebookRunGroups": {
     "groupValue": "1"
    },
    "tags": [
     "parameters"
    ]
   },
   "outputs": [],
   "source": [
    "DEBUG = True\n",
    "HIDE_TITLE = True"
   ]
  },
  {
   "attachments": {},
   "cell_type": "markdown",
   "metadata": {},
   "source": [
    "# Metrics\n"
   ]
  },
  {
   "attachments": {},
   "cell_type": "markdown",
   "metadata": {},
   "source": [
    "## Setup\n"
   ]
  },
  {
   "attachments": {},
   "cell_type": "markdown",
   "metadata": {},
   "source": [
    "### Imports\n"
   ]
  },
  {
   "cell_type": "code",
   "execution_count": null,
   "metadata": {
    "notebookRunGroups": {
     "groupValue": "1"
    }
   },
   "outputs": [],
   "source": [
    "# # Check is flaky in notebooks\n",
    "# pyright: reportUnnecessaryTypeIgnoreComment=none\n",
    "\n",
    "from pathlib import Path\n",
    "from shutil import copy\n",
    "import warnings\n",
    "\n",
    "from matplotlib import pyplot as plt\n",
    "import pandas as pd\n",
    "import seaborn as sns\n",
    "\n",
    "from boilerdata.axes_enum import AxesEnum as A  # noqa: N814\n",
    "from boilerdata.models.project import Project\n",
    "from boilerdata.stages.common import per_run\n",
    "from boilerdata.stages.modelfun import model_with_uncertainty\n",
    "from boilerdata.stages.notebooks.common import FLOAT_SPEC  # type: ignore  # magic\n",
    "from boilerdata.stages.notebooks.common import chdir_to_nearest_git_root_and_get_project\n",
    "from boilerdata.stages.notebooks.metrics import add_units, plot_new_fits, tex_wrap"
   ]
  },
  {
   "attachments": {},
   "cell_type": "markdown",
   "metadata": {},
   "source": [
    "### Data\n"
   ]
  },
  {
   "cell_type": "code",
   "execution_count": null,
   "metadata": {},
   "outputs": [],
   "source": [
    "if DEBUG:\n",
    "    proj = chdir_to_nearest_git_root_and_get_project()\n",
    "else:\n",
    "    proj = Project.get_project()"
   ]
  },
  {
   "cell_type": "code",
   "execution_count": null,
   "metadata": {
    "notebookRunGroups": {
     "groupValue": "1"
    }
   },
   "outputs": [],
   "source": [
    "meta = [col.name for col in proj.axes.meta]\n",
    "errors = proj.params.free_errors\n",
    "fits = proj.params.free_params\n",
    "df_in = pd.read_csv(\n",
    "    proj.dirs.file_results,\n",
    "    index_col=(index := [A.trial, A.run]),\n",
    "    parse_dates=index,\n",
    "    dtype={col.name: col.dtype for col in proj.axes.cols},\n",
    ")\n",
    "limits_in = {\n",
    "    A.T_5: (50, 300),\n",
    "    A.T_s_err: (0, 20),\n",
    "    A.q_s_err: (0, 5),\n",
    "    A.k_err: (0, 10),\n",
    "    A.h_a_err: (0, 40),\n",
    "    A.h_w_err: (0, 40),\n",
    "}"
   ]
  },
  {
   "attachments": {},
   "cell_type": "markdown",
   "metadata": {},
   "source": [
    "### Notebook"
   ]
  },
  {
   "cell_type": "code",
   "execution_count": null,
   "metadata": {
    "notebookRunGroups": {
     "groupValue": "1"
    }
   },
   "outputs": [],
   "source": [
    "_ = display()\n",
    "\"\"\"Suppress implicit outputs. Unlike `;`, doesn't get formatted out by `black`.\"\"\"\n",
    "_  # type: ignore"
   ]
  },
  {
   "cell_type": "code",
   "execution_count": null,
   "metadata": {
    "notebookRunGroups": {
     "groupValue": "1"
    }
   },
   "outputs": [],
   "source": [
    "%precision %$FLOAT_SPEC"
   ]
  },
  {
   "attachments": {},
   "cell_type": "markdown",
   "metadata": {},
   "source": [
    "### Plotting\n"
   ]
  },
  {
   "cell_type": "code",
   "execution_count": null,
   "metadata": {
    "notebookRunGroups": {
     "groupValue": "1"
    }
   },
   "outputs": [],
   "source": [
    "\"\"\"This warning fires unnecessarily when Seaborn or Pandas plots are placed in existing\n",
    "axes. This warning can't be caught in context of `warnings.catch_warnings()` because\n",
    "it fires *after* a cell finishes executing. So we have to disable this globally.\"\"\"\n",
    "warnings.filterwarnings(\n",
    "    category=UserWarning,\n",
    "    action=\"ignore\",\n",
    "    message=\"This figure includes Axes that are not compatible with\",\n",
    ")\n",
    "\n",
    "sns.set_theme(\n",
    "    context=\"notebook\",\n",
    "    style=\"whitegrid\",\n",
    "    palette=\"bright\",\n",
    "    font=\"sans-serif\",\n",
    ")\n",
    "\n",
    "plt.style.use(style=proj.dirs.mpl_base)\n",
    "if HIDE_TITLE:\n",
    "    plt.style.use(style=proj.dirs.mpl_hide_title)"
   ]
  },
  {
   "attachments": {},
   "cell_type": "markdown",
   "metadata": {},
   "source": [
    "## Metrics\n"
   ]
  },
  {
   "cell_type": "code",
   "execution_count": null,
   "metadata": {},
   "outputs": [],
   "source": [
    "Path(proj.dirs.file_pipeline_metrics).write_text(\n",
    "    df_in[errors]\n",
    "    .agg([\"median\", \"max\"])\n",
    "    .rename(axis=\"index\", mapper={\"median\": \"med\"})\n",
    "    .to_json(),\n",
    "    encoding=\"utf-8\",\n",
    ")\n",
    "\n",
    "_  # type: ignore"
   ]
  },
  {
   "attachments": {},
   "cell_type": "markdown",
   "metadata": {},
   "source": [
    "## Plots\n"
   ]
  },
  {
   "attachments": {},
   "cell_type": "markdown",
   "metadata": {},
   "source": [
    "### Error and temperature"
   ]
  },
  {
   "cell_type": "code",
   "execution_count": null,
   "metadata": {},
   "outputs": [],
   "source": [
    "cols = [A.joint, A.T_5, *errors]\n",
    "df, col_to_unitcol = add_units(df_in, proj)\n",
    "col_to_unitcol = {k: v for k, v in col_to_unitcol.items() if k in cols}\n",
    "df = df[[col_to_unitcol[col] for col in cols]]\n",
    "df, unitcol_to_texunitcol = tex_wrap(df)\n",
    "c = dict(zip(col_to_unitcol, unitcol_to_texunitcol.values()))\n",
    "\n",
    "joints = dict(\n",
    "    paste=\".\",\n",
    "    epoxy=\"^\",\n",
    "    solder=\"s\",\n",
    "    none=\"D\",\n",
    ")\n",
    "limits = {c[k]: v for k, v in limits_in.items() if k in c}\n",
    "\n",
    "for error, path in zip(\n",
    "    errors,\n",
    "    [\n",
    "        proj.dirs.plot_error_T_s,\n",
    "        proj.dirs.plot_error_q_s,\n",
    "        proj.dirs.plot_error_h_a,\n",
    "    ],\n",
    "):\n",
    "    jg = sns.JointGrid()\n",
    "    jg.ax_marg_x.remove()\n",
    "\n",
    "    common = dict(\n",
    "        data=df,\n",
    "        y=c[error],\n",
    "    )\n",
    "    sns.scatterplot(\n",
    "        ax=jg.ax_joint,\n",
    "        **common,\n",
    "        x=c[A.T_5],\n",
    "        hue=c[A.joint],\n",
    "        style=c[A.joint],\n",
    "        markers=joints,  # type: ignore  # seaborn\n",
    "        edgecolor=\"gray\",\n",
    "        hue_order=joints.keys(),\n",
    "        alpha=0.9,\n",
    "    )\n",
    "    sns.histplot(\n",
    "        ax=jg.ax_marg_y,\n",
    "        **common,\n",
    "        stat=\"count\",\n",
    "        bins=16,  # type: ignore\n",
    "        color=\"gray\",\n",
    "    )\n",
    "\n",
    "    jg.ax_joint.set_xlim(limits[c[A.T_5]])\n",
    "    jg.ax_joint.set_ylim(limits[c[error]])  # type: ignore\n",
    "    jg.figure.savefig(path)"
   ]
  },
  {
   "attachments": {},
   "cell_type": "markdown",
   "metadata": {},
   "source": [
    "### New model fits\n"
   ]
  },
  {
   "cell_type": "code",
   "execution_count": null,
   "metadata": {
    "notebookRunGroups": {
     "groupValue": "3"
    }
   },
   "outputs": [],
   "source": [
    "if proj.params.do_plot:\n",
    "    per_run(df, plot_new_fits, proj, model_with_uncertainty)\n",
    "    if figs_src := sorted(proj.dirs.new_fits.iterdir()):\n",
    "        figs_src = (\n",
    "            figs_src[0],\n",
    "            figs_src[len(figs_src) // 2],\n",
    "            figs_src[-1],\n",
    "        )\n",
    "        figs_dst = (\n",
    "            proj.dirs.plot_new_fit_0,\n",
    "            proj.dirs.plot_new_fit_1,\n",
    "            proj.dirs.plot_new_fit_2,\n",
    "        )\n",
    "        for fig_src, fig_dst in zip(figs_src, figs_dst):\n",
    "            copy(fig_src, fig_dst)"
   ]
  }
 ],
 "metadata": {
  "kernelspec": {
   "display_name": "Python 3.10.8 ('.venv': venv)",
   "language": "python",
   "name": "python3"
  },
  "language_info": {
   "codemirror_mode": {
    "name": "ipython",
    "version": 3
   },
   "file_extension": ".py",
   "mimetype": "text/x-python",
   "name": "python",
   "nbconvert_exporter": "python",
   "pygments_lexer": "ipython3",
   "version": "3.10.8"
  },
  "vscode": {
   "interpreter": {
    "hash": "cc205b3aad581f24633c38d2da42f868ebfe6996184028e7f95930ad3f311dd7"
   }
  }
 },
 "nbformat": 4,
 "nbformat_minor": 2
}
