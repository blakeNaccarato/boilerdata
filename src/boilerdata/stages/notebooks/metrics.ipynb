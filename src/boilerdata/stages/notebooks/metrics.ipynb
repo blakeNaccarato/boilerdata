{
 "cells": [
  {
   "attachments": {},
   "cell_type": "markdown",
   "metadata": {},
   "source": [
    "## Parameters\n",
    "\n",
    "These are changed by Papermill in the data pipeline."
   ]
  },
  {
   "cell_type": "code",
   "execution_count": null,
   "metadata": {
    "notebookRunGroups": {
     "groupValue": "1"
    },
    "tags": [
     "parameters"
    ]
   },
   "outputs": [],
   "source": [
    "debug = False"
   ]
  },
  {
   "attachments": {},
   "cell_type": "markdown",
   "metadata": {},
   "source": [
    "# Metrics\n"
   ]
  },
  {
   "attachments": {},
   "cell_type": "markdown",
   "metadata": {},
   "source": [
    "## Setup\n"
   ]
  },
  {
   "attachments": {},
   "cell_type": "markdown",
   "metadata": {},
   "source": [
    "### Imports\n"
   ]
  },
  {
   "cell_type": "code",
   "execution_count": null,
   "metadata": {
    "notebookRunGroups": {
     "groupValue": "1"
    }
   },
   "outputs": [],
   "source": [
    "# # Check is flaky in notebooks\n",
    "# pyright: reportUnnecessaryTypeIgnoreComment=none\n",
    "\n",
    "import json\n",
    "from pathlib import Path\n",
    "from shutil import copy\n",
    "import warnings\n",
    "\n",
    "from matplotlib import pyplot as plt\n",
    "import matplotlib as mpl\n",
    "import numpy as np\n",
    "import pandas as pd\n",
    "import seaborn as sns\n",
    "\n",
    "from boilerdata.axes_enum import AxesEnum as A  # noqa: N814\n",
    "from boilerdata.models.project import Project\n",
    "from boilerdata.stages.common import get_tcs, get_trial, per_run\n",
    "from boilerdata.stages.notebooks.common import FLOAT_SPEC  # type: ignore  # magic\n",
    "from boilerdata.stages.notebooks.common import proj\n",
    "from boilerdata.stages.notebooks.metrics import (\n",
    "    add_units,\n",
    "    get_params_mapping,\n",
    "    get_params_mapping_with_uncertainties,\n",
    "    model_with_error,\n",
    "    tex_wrap,\n",
    ")"
   ]
  },
  {
   "cell_type": "code",
   "execution_count": null,
   "metadata": {
    "notebookRunGroups": {
     "groupValue": "1"
    }
   },
   "outputs": [],
   "source": [
    "_ = display()\n",
    "\"\"\"Suppress implicit outputs. Unlike `;`, doesn't get formatted out by `black`.\"\"\"\n",
    "_  # type: ignore"
   ]
  },
  {
   "cell_type": "code",
   "execution_count": null,
   "metadata": {
    "notebookRunGroups": {
     "groupValue": "1"
    }
   },
   "outputs": [],
   "source": [
    "%precision %$FLOAT_SPEC"
   ]
  },
  {
   "attachments": {},
   "cell_type": "markdown",
   "metadata": {},
   "source": [
    "### Data\n"
   ]
  },
  {
   "cell_type": "code",
   "execution_count": null,
   "metadata": {
    "notebookRunGroups": {
     "groupValue": "1"
    }
   },
   "outputs": [],
   "source": [
    "meta = [col.name for col in proj.axes.meta]\n",
    "errors = proj.params.free_errors\n",
    "fits = proj.params.free_params\n",
    "df_in = pd.read_csv(\n",
    "    proj.dirs.file_results,\n",
    "    index_col=(index := [A.trial, A.run]),\n",
    "    parse_dates=index,\n",
    "    dtype={col.name: col.dtype for col in proj.axes.cols},\n",
    ")\n",
    "limits_in = {\n",
    "    A.T_5: (50, 300),\n",
    "    A.T_s_err: (0, 20),\n",
    "    A.q_s_err: (0, 5),\n",
    "    A.k_err: (0, 10),\n",
    "    A.h_a_err: (0, 40),\n",
    "    A.h_w_err: (0, 40),\n",
    "}"
   ]
  },
  {
   "attachments": {},
   "cell_type": "markdown",
   "metadata": {},
   "source": [
    "### Plotting\n"
   ]
  },
  {
   "cell_type": "code",
   "execution_count": null,
   "metadata": {
    "notebookRunGroups": {
     "groupValue": "1"
    }
   },
   "outputs": [],
   "source": [
    "\"\"\"This warning fires unnecessarily when Seaborn or Pandas plots are placed in existing\n",
    "axes. This warning can't be caught in context of `warnings.catch_warnings()` because\n",
    "it fires *after* a cell finishes executing. So we have to disable this globally.\"\"\"\n",
    "warnings.filterwarnings(\n",
    "    category=UserWarning,\n",
    "    action=\"ignore\",\n",
    "    message=\"This figure includes Axes that are not compatible with\",\n",
    ")\n",
    "\n",
    "sns.set_theme(\n",
    "    context=\"notebook\",\n",
    "    style=\"whitegrid\",\n",
    "    palette=\"bright\",\n",
    "    font=\"sans-serif\",\n",
    ")\n",
    "\n",
    "plt.style.use(style=proj.dirs.mpl_base)\n",
    "if debug:\n",
    "    plt.style.use(style=proj.dirs.mpl_hide_title)"
   ]
  },
  {
   "attachments": {},
   "cell_type": "markdown",
   "metadata": {},
   "source": [
    "## Metrics\n"
   ]
  },
  {
   "cell_type": "code",
   "execution_count": null,
   "metadata": {},
   "outputs": [],
   "source": [
    "Path(proj.dirs.file_pipeline_metrics).write_text(\n",
    "    df_in[errors]\n",
    "    .agg([\"median\", \"max\"])\n",
    "    .rename(axis=\"index\", mapper={\"median\": \"med\"})\n",
    "    .to_json(),\n",
    "    encoding=\"utf-8\",\n",
    ")\n",
    "\n",
    "_  # type: ignore"
   ]
  },
  {
   "attachments": {},
   "cell_type": "markdown",
   "metadata": {},
   "source": [
    "## Plots\n"
   ]
  },
  {
   "attachments": {},
   "cell_type": "markdown",
   "metadata": {},
   "source": [
    "### Error and temperature"
   ]
  },
  {
   "cell_type": "code",
   "execution_count": null,
   "metadata": {},
   "outputs": [],
   "source": [
    "cols = [A.joint, A.T_5, *errors]\n",
    "df, col_to_unitcol = add_units(df_in, proj)\n",
    "col_to_unitcol = {k: v for k, v in col_to_unitcol.items() if k in cols}\n",
    "df = df[[col_to_unitcol[col] for col in cols]]\n",
    "df, unitcol_to_texunitcol = tex_wrap(df)\n",
    "c = dict(zip(col_to_unitcol, unitcol_to_texunitcol.values()))\n",
    "\n",
    "joints = dict(\n",
    "    paste=\".\",\n",
    "    epoxy=\"^\",\n",
    "    solder=\"s\",\n",
    "    none=\"D\",\n",
    ")\n",
    "limits = {c[k]: v for k, v in limits_in.items() if k in c}\n",
    "\n",
    "for error, path in zip(\n",
    "    errors,\n",
    "    [\n",
    "        proj.dirs.plot_error_T_s,\n",
    "        proj.dirs.plot_error_q_s,\n",
    "        proj.dirs.plot_error_h_a,\n",
    "    ],\n",
    "):\n",
    "    jg = sns.JointGrid()\n",
    "    jg.ax_marg_x.remove()\n",
    "\n",
    "    common = dict(\n",
    "        data=df,\n",
    "        y=c[error],\n",
    "    )\n",
    "    sns.scatterplot(\n",
    "        ax=jg.ax_joint,\n",
    "        **common,\n",
    "        x=c[A.T_5],\n",
    "        hue=c[A.joint],\n",
    "        style=c[A.joint],\n",
    "        markers=joints,  # type: ignore  # seaborn\n",
    "        edgecolor=\"gray\",\n",
    "        hue_order=joints.keys(),\n",
    "        alpha=0.9,\n",
    "    )\n",
    "    sns.histplot(\n",
    "        ax=jg.ax_marg_y,\n",
    "        **common,\n",
    "        stat=\"count\",\n",
    "        bins=16,  # type: ignore\n",
    "        color=\"gray\",\n",
    "    )\n",
    "\n",
    "    jg.ax_joint.set_xlim(limits[c[A.T_5]])\n",
    "    jg.ax_joint.set_ylim(limits[c[error]])  # type: ignore\n",
    "    jg.figure.savefig(path)"
   ]
  },
  {
   "attachments": {},
   "cell_type": "markdown",
   "metadata": {},
   "source": [
    "### New model fits\n"
   ]
  },
  {
   "cell_type": "code",
   "execution_count": null,
   "metadata": {
    "notebookRunGroups": {
     "groupValue": "3"
    }
   },
   "outputs": [],
   "source": [
    "def plot_new_fits(grp: pd.DataFrame, proj: Project, model):\n",
    "    \"\"\"Plot model fits for trials marked as new.\"\"\"\n",
    "\n",
    "    trial = get_trial(grp, proj)\n",
    "    if not trial.new:\n",
    "        return grp\n",
    "\n",
    "    ser = grp.squeeze()\n",
    "    tcs, tc_errors = get_tcs(trial)\n",
    "    x_unique = list(trial.thermocouple_pos.values())\n",
    "    y_unique = ser[tcs]\n",
    "\n",
    "    # Plot setup\n",
    "    fig, ax = plt.subplots(layout=\"constrained\")\n",
    "\n",
    "    run = ser.name[-1].isoformat()\n",
    "    run_file = proj.dirs.new_fits / f\"{run.replace(':', '-')}.png\"\n",
    "\n",
    "    ax.margins(0, 0)\n",
    "    ax.set_title(f\"{run = }\")\n",
    "    ax.set_xlabel(\"x (m)\")\n",
    "    ax.set_ylabel(\"T (C)\")\n",
    "\n",
    "    # Initial plot boundaries\n",
    "    x_bounds = np.array([0, trial.thermocouple_pos[A.T_1]])\n",
    "\n",
    "    y_bounds = model(x_bounds, **get_params_mapping(ser, proj.params.model_params))\n",
    "    ax.plot(\n",
    "        x_bounds,\n",
    "        y_bounds,\n",
    "        \"none\",\n",
    "    )\n",
    "\n",
    "    # Measurements\n",
    "    measurements_color = [0.2, 0.2, 0.2]\n",
    "    ax.plot(\n",
    "        x_unique,\n",
    "        y_unique,\n",
    "        \".\",\n",
    "        label=\"Measurements\",\n",
    "        color=measurements_color,\n",
    "        markersize=10,\n",
    "    )\n",
    "    ax.errorbar(\n",
    "        x=x_unique,\n",
    "        y=y_unique,\n",
    "        yerr=ser[tc_errors],\n",
    "        fmt=\"none\",\n",
    "        color=measurements_color,\n",
    "    )\n",
    "\n",
    "    # Confidence interval\n",
    "    (xlim_min, xlim_max) = ax.get_xlim()\n",
    "    pad = 0.025 * (xlim_max - xlim_min)\n",
    "    x_padded = np.linspace(xlim_min - pad, xlim_max + pad)\n",
    "\n",
    "    y_padded, y_padded_min, y_padded_max = model_with_error(\n",
    "        model, x_padded, get_params_mapping_with_uncertainties(ser, proj)\n",
    "    )\n",
    "    ax.plot(\n",
    "        x_padded,\n",
    "        y_padded,\n",
    "        \"--\",\n",
    "        label=\"Model Fit\",\n",
    "    )\n",
    "    ax.fill_between(\n",
    "        x=x_padded,\n",
    "        y1=y_padded_min,  # pyright: ignore [reportGeneralTypeIssues]  # matplotlib\n",
    "        y2=y_padded_max,  # pyright: ignore [reportGeneralTypeIssues]  # matplotlib\n",
    "        color=[0.8, 0.8, 0.8],\n",
    "        edgecolor=[1, 1, 1],\n",
    "        label=\"95% CI\",\n",
    "    )\n",
    "\n",
    "    # Extrapolation\n",
    "    ax.plot(\n",
    "        0,\n",
    "        ser[A.T_s],\n",
    "        \"x\",\n",
    "        label=\"Extrapolation\",\n",
    "        color=[1, 0, 0],\n",
    "    )\n",
    "\n",
    "    # Finishing\n",
    "    ax.legend()\n",
    "    fig.savefig(\n",
    "        run_file,  # pyright: ignore [reportGeneralTypeIssues]  # matplotlib\n",
    "        dpi=300,\n",
    "    )\n",
    "\n",
    "\n",
    "def plot_fits(df: pd.DataFrame, proj: Project, model):\n",
    "    \"\"\"Get the latest new model fit plot.\"\"\"\n",
    "    if proj.params.do_plot:\n",
    "        per_run(df, plot_new_fits, proj, model)\n",
    "        if figs_src := sorted(proj.dirs.new_fits.iterdir()):\n",
    "            figs_src = (\n",
    "                figs_src[0],\n",
    "                figs_src[len(figs_src) // 2],\n",
    "                figs_src[-1],\n",
    "            )\n",
    "            figs_dst = (\n",
    "                proj.dirs.plot_new_fit_0,\n",
    "                proj.dirs.plot_new_fit_1,\n",
    "                proj.dirs.plot_new_fit_2,\n",
    "            )\n",
    "            for fig_src, fig_dst in zip(figs_src, figs_dst):\n",
    "                copy(fig_src, fig_dst)"
   ]
  },
  {
   "cell_type": "code",
   "execution_count": null,
   "metadata": {
    "notebookRunGroups": {
     "groupValue": "3"
    }
   },
   "outputs": [],
   "source": [
    "from boilerdata.stages.modelfun import model_with_uncertainty\n",
    "\n",
    "plot_fits(df_in, proj, model_with_uncertainty)"
   ]
  }
 ],
 "metadata": {
  "kernelspec": {
   "display_name": "Python 3.10.8 ('.venv': venv)",
   "language": "python",
   "name": "python3"
  },
  "language_info": {
   "codemirror_mode": {
    "name": "ipython",
    "version": 3
   },
   "file_extension": ".py",
   "mimetype": "text/x-python",
   "name": "python",
   "nbconvert_exporter": "python",
   "pygments_lexer": "ipython3",
   "version": "3.10.8"
  },
  "vscode": {
   "interpreter": {
    "hash": "b6aa036b71bee0863c84db770605bec9f16973f1b95b8b091417c7a1242fbf62"
   }
  }
 },
 "nbformat": 4,
 "nbformat_minor": 2
}
