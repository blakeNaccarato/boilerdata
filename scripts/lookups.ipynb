{
 "cells": [
  {
   "cell_type": "code",
   "execution_count": 2,
   "metadata": {},
   "outputs": [],
   "source": [
    "from pathlib import Path\n",
    "\n",
    "from boilerdata import lookup, materials\n",
    "\n",
    "WORKDIR = Path.home() / \"Desktop/Lookup\"\n",
    "XLSX = WORKDIR / \"XLSX\"\n",
    "XLSX_TWEAKED = WORKDIR / \"XLSX Tweaked\"\n",
    "XLSX_FLATTENED = WORKDIR / \"XLSX Flattened\""
   ]
  },
  {
   "cell_type": "code",
   "execution_count": null,
   "metadata": {},
   "outputs": [],
   "source": [
    "lookup.get_all_lkt_as_xlsx(XLSX)"
   ]
  },
  {
   "cell_type": "code",
   "execution_count": null,
   "metadata": {},
   "outputs": [],
   "source": [
    "lookup.tweak_xlsx(XLSX, XLSX_TWEAKED)"
   ]
  },
  {
   "cell_type": "code",
   "execution_count": null,
   "metadata": {},
   "outputs": [],
   "source": [
    "materials = sorted(lookup.get_tweaked_materials(XLSX_TWEAKED))\n",
    "materials = [f\"    {m} = auto()\" for m in materials]\n",
    "print(*materials, sep=\"\\n\")"
   ]
  },
  {
   "cell_type": "code",
   "execution_count": null,
   "metadata": {},
   "outputs": [],
   "source": [
    "materials = sorted(lookup.get_tweaked_materials(XLSX_TWEAKED / \"Organic Liquids\"))\n",
    "materials = [f\"    {m} = auto()\" for m in materials]\n",
    "print(*materials, sep=\"\\n\")"
   ]
  },
  {
   "cell_type": "code",
   "execution_count": 3,
   "metadata": {},
   "outputs": [],
   "source": [
    "lookup.flatten_xlsx(XLSX_TWEAKED, XLSX_FLATTENED)"
   ]
  }
 ],
 "metadata": {
  "interpreter": {
   "hash": "f0814e65309a6b95e44e3fad8b639a62da3619d7de30c9404aa88bfc93c4307e"
  },
  "kernelspec": {
   "display_name": "Python 3.10.2 ('.venv': venv)",
   "language": "python",
   "name": "python3"
  },
  "language_info": {
   "codemirror_mode": {
    "name": "ipython",
    "version": 3
   },
   "file_extension": ".py",
   "mimetype": "text/x-python",
   "name": "python",
   "nbconvert_exporter": "python",
   "pygments_lexer": "ipython3",
   "version": "3.10.2"
  },
  "orig_nbformat": 4
 },
 "nbformat": 4,
 "nbformat_minor": 2
}
